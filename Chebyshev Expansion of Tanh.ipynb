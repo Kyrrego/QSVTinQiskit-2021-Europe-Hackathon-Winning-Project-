{
 "cells": [
  {
   "cell_type": "code",
   "execution_count": 6,
   "id": "impressed-clause",
   "metadata": {},
   "outputs": [],
   "source": [
    "# Computational imports\n",
    "import math\n",
    "import numpy as np\n",
    "from scipy import optimize as opt\n",
    "\n",
    "# Graphics imports\n",
    "import matplotlib.pyplot as plt"
   ]
  },
  {
   "cell_type": "code",
   "execution_count": 47,
   "id": "danish-angola",
   "metadata": {},
   "outputs": [],
   "source": [
    "#define a tanh with affine transformation to make it more steep\n",
    "\n",
    "def f(x):\n",
    "    return np.tanh(10*x)\n",
    "\n",
    "def scale_up(z,x_min,x_max):\n",
    "    \"\"\"\n",
    "    Scales up z \\in [-1,1] to x \\in [x_min,x_max]\n",
    "    where z = (2 * (x - x_min) / (x_max - x_min)) - 1\n",
    "    \"\"\"\n",
    "    \n",
    "    return x_min + (z + 1) * (x_max - x_min) / 2\n",
    "\n",
    "\n",
    "def scale_down(x,x_min,x_max):\n",
    "    \"\"\"\n",
    "    Scales down x \\in [x_min,x_max] to z \\in [-1,1]\n",
    "    where z = f(x) = (2 * (x - x_min) / (x_max - x_min)) - 1\n",
    "    \"\"\"    \n",
    "    \n",
    "    return (2 * (x - x_min) / (x_max - x_min)) - 1"
   ]
  },
  {
   "cell_type": "code",
   "execution_count": 48,
   "id": "driven-storm",
   "metadata": {},
   "outputs": [],
   "source": [
    "x_min = -1\n",
    "x_max = +1\n",
    "x_grid = np.linspace(x_min,x_max,100)"
   ]
  },
  {
   "cell_type": "code",
   "execution_count": 49,
   "id": "stopped-seventh",
   "metadata": {},
   "outputs": [
    {
     "data": {
      "image/png": "[encoded data removed]",
      "text/plain": [
       "<Figure size 432x288 with 1 Axes>"
      ]
     },
     "metadata": {
      "needs_background": "light"
     },
     "output_type": "display_data"
    }
   ],
   "source": [
    "plt.figure()\n",
    "plt.plot(x_grid,f(x_grid))\n",
    "plt.title(\"tanh(y=10x)\")\n",
    "plt.xlabel(\"y\")\n",
    "plt.ylabel(\"tanh(y)\")\n",
    "plt.show()\n",
    "plt.close()"
   ]
  },
  {
   "cell_type": "code",
   "execution_count": 68,
   "id": "reserved-orleans",
   "metadata": {},
   "outputs": [],
   "source": [
    "n = 20 # order (degree, highest power) of the approximating polynomial\n",
    "m = 30 # number of Chebyshev nodes (having m > n doesn't matter for the approximation it seems)\n",
    "\n",
    "# generate chebyshev nodes (the roots of Chebyshev polynomials, a Chebyshev polynomial of degree m-1 has m roots)\n",
    "r_k = -np.cos((2*np.arange(1,m+1) - 1) * np.pi / (2*m))\n",
    "\n",
    "# or using numpy's routine\n",
    "#r_k = np.polynomial.chebyshev.chebpts1(m)"
   ]
  },
  {
   "cell_type": "code",
   "execution_count": 69,
   "id": "technological-documentary",
   "metadata": {},
   "outputs": [],
   "source": [
    "# builds the Vandermonde matrix of Chebyshev polynomial expansion at the r_k nodes\n",
    "# using the recurrence relation\n",
    "T = np.zeros((m,n+1))\n",
    "\n",
    "T[:,0] = np.ones((m,1)).T\n",
    "\n",
    "T[:,1] = r_k.T\n",
    "\n",
    "for i in range(1,n):\n",
    "    T[:,i+1] = 2 * r_k * T[:,i] - T[:,i-1]\n",
    "\n",
    "# or numpy's routine\n",
    "#T = np.polynomial.chebyshev.chebvander(r_k,n)"
   ]
  },
  {
   "cell_type": "code",
   "execution_count": 70,
   "id": "greek-beatles",
   "metadata": {},
   "outputs": [
    {
     "data": {
      "text/plain": [
       "array([ 6.93889390e-17,  1.26796679e+00, -9.42171688e-17, -4.08968011e-01,\n",
       "       -7.32920669e-17,  2.30069647e-01,  1.01481323e-16, -1.49681607e-01,\n",
       "        5.55111512e-17,  1.03345156e-01,  8.67361738e-17, -7.34163864e-02,\n",
       "       -4.16333634e-17,  5.29535998e-02,  0.00000000e+00, -3.85541020e-02,\n",
       "        2.77555756e-17,  2.82843236e-02,  0.00000000e+00, -2.09339545e-02,\n",
       "        1.73472348e-17])"
      ]
     },
     "execution_count": 70,
     "metadata": {},
     "output_type": "execute_result"
    }
   ],
   "source": [
    "# calculate the Chebyshev coefficients\n",
    "x_k = scale_up(r_k,x_min,x_max)\n",
    "y_k = f(x_k)\n",
    "α = np.linalg.inv(T.T @ T) @ T.T @ y_k\n",
    "α"
   ]
  },
  {
   "cell_type": "code",
   "execution_count": 71,
   "id": "textile-dayton",
   "metadata": {},
   "outputs": [
    {
     "data": {
      "text/plain": [
       "array([-0.99558485, -1.00904037, -0.99507739, -0.9956845 , -1.00996434,\n",
       "       -0.99388119, -0.9954741 , -1.01233343, -0.99106056, -0.99515706,\n",
       "       -1.01776858, -0.98087347, -0.9877387 , -0.94521718, -0.43055198,\n",
       "        0.43055198,  0.94521718,  0.9877387 ,  0.98087347,  1.01776858,\n",
       "        0.99515706,  0.99106056,  1.01233343,  0.9954741 ,  0.99388119,\n",
       "        1.00996434,  0.9956845 ,  0.99507739,  1.00904037,  0.99558485])"
      ]
     },
     "execution_count": 71,
     "metadata": {},
     "output_type": "execute_result"
    }
   ],
   "source": [
    "# evaluate the Chebyshev series with coefficients α_k at the points r_k\n",
    "T @ α\n",
    "\n",
    "# or with numpy's routine\n",
    "#np.polynomial.chebyshev.chebval(r_k,α)"
   ]
  },
  {
   "cell_type": "code",
   "execution_count": 72,
   "id": "sensitive-livestock",
   "metadata": {},
   "outputs": [],
   "source": [
    "# Use coefficients to compute an approximation of $f(x)$ over the grid of $x$:\n",
    "T = np.zeros((len(x_grid),n+1))\n",
    "\n",
    "T[:,0] = np.ones((len(x_grid),1)).T\n",
    "\n",
    "z_grid = scale_down(x_grid,x_min,x_max)\n",
    "\n",
    "T[:,1] = z_grid.T\n",
    "\n",
    "for i in range(1,n):\n",
    "    T[:,i+1] = 2 * z_grid * T[:,i] - T[:,i-1]\n",
    "\n",
    "# compute approximation\n",
    "Tf = T @ α"
   ]
  },
  {
   "cell_type": "code",
   "execution_count": 73,
   "id": "level-operations",
   "metadata": {},
   "outputs": [
    {
     "data": {
      "image/png": "[encoded data removed]",
      "text/plain": [
       "<Figure size 432x288 with 1 Axes>"
      ]
     },
     "metadata": {
      "needs_background": "light"
     },
     "output_type": "display_data"
    }
   ],
   "source": [
    "# make sure to use the scaled down grid inside the Chebyshev expansion\n",
    "plt.figure()\n",
    "plt.plot(x_grid,f(x_grid))\n",
    "plt.plot(x_grid, Tf)\n",
    "plt.show()\n",
    "plt.close()"
   ]
  },
  {
   "cell_type": "code",
   "execution_count": 74,
   "id": "competitive-exhibition",
   "metadata": {},
   "outputs": [
    {
     "data": {
      "image/png": "[encoded data removed]",
      "text/plain": [
       "<Figure size 432x288 with 1 Axes>"
      ]
     },
     "metadata": {
      "needs_background": "light"
     },
     "output_type": "display_data"
    }
   ],
   "source": [
    "# plot approximation error\n",
    "plt.figure()\n",
    "plt.plot(x_grid,f(x_grid) - Tf)\n",
    "plt.show()\n",
    "plt.close()"
   ]
  },
  {
   "cell_type": "code",
   "execution_count": null,
   "id": "noticed-handle",
   "metadata": {},
   "outputs": [],
   "source": []
  }
 ],
 "metadata": {
  "kernelspec": {
   "display_name": "Python 3",
   "language": "python",
   "name": "python3"
  },
  "language_info": {
   "codemirror_mode": {
    "name": "ipython",
    "version": 3
   },
   "file_extension": ".py",
   "mimetype": "text/x-python",
   "name": "python",
   "nbconvert_exporter": "python",
   "pygments_lexer": "ipython3",
   "version": "3.8.5"
  }
 },
 "nbformat": 4,
 "nbformat_minor": 5
}
