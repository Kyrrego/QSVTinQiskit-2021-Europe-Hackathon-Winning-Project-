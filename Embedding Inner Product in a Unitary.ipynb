{
 "cells": [
  {
   "cell_type": "code",
   "execution_count": 18,
   "id": "96aed7be",
   "metadata": {},
   "outputs": [
    {
     "name": "stderr",
     "output_type": "stream",
     "text": [
      "ibmqfactory.load_account:WARNING:2021-04-18 14:38:05,938: Credentials are already in use. The existing account in the session will be replaced.\n"
     ]
    }
   ],
   "source": [
    "import numpy as np\n",
    "# Importing standard Qiskit libraries\n",
    "from qiskit import *\n",
    "from qiskit.tools.jupyter import *\n",
    "from qiskit.visualization import *\n",
    "from ibm_quantum_widgets import *\n",
    "\n",
    "from qiskit.quantum_info import Operator\n",
    "\n",
    "# Loading your IBM Q account(s)\n",
    "provider = IBMQ.load_account()\n",
    "\n",
    "from scipy.stats import unitary_group"
   ]
  },
  {
   "cell_type": "code",
   "execution_count": 61,
   "id": "af9c41de",
   "metadata": {},
   "outputs": [
    {
     "name": "stdout",
     "output_type": "stream",
     "text": [
      "[[ 0.54772256  0.          0.         -0.83666003]\n",
      " [ 0.          1.          0.          0.        ]\n",
      " [ 0.          0.          1.          0.        ]\n",
      " [ 0.83666003  0.          0.          0.54772256]]\n"
     ]
    }
   ],
   "source": [
    "#say that our inner product is <s|t>,\n",
    "#to embed this value in a Unitary we can simply chose to create an identity matrix\n",
    "#which is the simplest unitary by nature and replace its first column\n",
    "#with a vector containing our desired inner product as the first value,\n",
    "#and for normalization purposes sqrt(1-<s|v>) somewhere.\n",
    "#most convenient place is the last value, since we can symettrically change the last column\n",
    "#with a vector that is orthagonal to the first vector\n",
    "#thus preserving unitarity\n",
    "\n",
    "#example for a 2 qubit 4x4 unitary\n",
    "#with <s|t> = 0.3\n",
    "\n",
    "\n",
    "V = np.eye(4)\n",
    "V[:,0] = [np.sqrt(0.3), 0, 0, np.sqrt(0.7)] \n",
    "V[:,3] = [-np.sqrt(0.7), 0, 0, np.sqrt(0.3)]\n",
    "print(V)"
   ]
  },
  {
   "cell_type": "code",
   "execution_count": 64,
   "id": "34337c5a",
   "metadata": {},
   "outputs": [
    {
     "data": {
      "image/png": "[encoded data removed]",
      "text/plain": [
       "<Figure size 146.652x144.48 with 1 Axes>"
      ]
     },
     "execution_count": 64,
     "metadata": {},
     "output_type": "execute_result"
    }
   ],
   "source": [
    "#we can then make this unitary operator a gate\n",
    "#by the following\n",
    "\n",
    "circuit = QuantumCircuit(2)\n",
    "\n",
    "op = Operator(V)\n",
    "circuit.unitary(op, [0, 1], label='op')\n",
    "\n",
    "circuit.draw()"
   ]
  },
  {
   "cell_type": "code",
   "execution_count": 65,
   "id": "17c40469",
   "metadata": {},
   "outputs": [
    {
     "name": "stdout",
     "output_type": "stream",
     "text": [
      "[[ 0.548+0.j  0.   +0.j  0.   +0.j -0.837+0.j]\n",
      " [ 0.   +0.j  1.   +0.j  0.   +0.j  0.   +0.j]\n",
      " [ 0.   +0.j  0.   +0.j  1.   +0.j  0.   +0.j]\n",
      " [ 0.837+0.j  0.   +0.j  0.   +0.j  0.548+0.j]]\n"
     ]
    }
   ],
   "source": [
    "#and check if it indeed represents the matrix we had fed it\n",
    "\n",
    "backend = Aer.get_backend('unitary_simulator')\n",
    "job = execute(circuit, backend)\n",
    "result = job.result()\n",
    "print(np.around(result.get_unitary(circuit), 3))\n",
    "\n",
    "#indeed this is our intended matrix, just to a less sig figures\n",
    "#maybe there is a way to preserve the original "
   ]
  },
  {
   "cell_type": "code",
   "execution_count": null,
   "id": "e0d658b4",
   "metadata": {},
   "outputs": [],
   "source": []
  }
 ],
 "metadata": {
  "kernelspec": {
   "display_name": "Python 3",
   "language": "python",
   "name": "python3"
  },
  "language_info": {
   "codemirror_mode": {
    "name": "ipython",
    "version": 3
   },
   "file_extension": ".py",
   "mimetype": "text/x-python",
   "name": "python",
   "nbconvert_exporter": "python",
   "pygments_lexer": "ipython3",
   "version": "3.8.8"
  }
 },
 "nbformat": 4,
 "nbformat_minor": 5
}
